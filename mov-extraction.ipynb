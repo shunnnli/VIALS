{
 "cells": [
  {
   "cell_type": "code",
   "execution_count": 6,
   "metadata": {},
   "outputs": [
    {
     "name": "stdout",
     "output_type": "stream",
     "text": [
      "----- Loading DLC and camdata files -----\n",
      "21-013020-1\n",
      "dlc csv loaded\n",
      "camdata loaded\n"
     ]
    }
   ],
   "source": [
    "%% Load files\n",
    "disp('----- Loading DLC and camdata files -----');\n",
    "% load session deeplabcut data\n",
    "sessions = [\"11-062019-1\"; \"11-062119-1\"; \"11-062219-1\"; \"11-062419-1\"; \"11-062819-1\";...\n",
    "    \"12-070519-2\"; \"13-090419-1\"; \"13-090919-1\"; \"14-091519-1\"; \"18-102119-1\";...\n",
    "    \"18-102519-1\"; \"18-102519-2\"; \"19-111119-1\"; \"20-200115-2\"; \"20-200117-1\";...\n",
    "    \"20-200121-1\"; \"20-200121-2\"; \"20-200121-3\"; \"21-012720-1\"; \"21-013020-1\"];\n",
    "session = sessions(20);\n",
    "disp(session);\n",
    "\n",
    "% 0 = no swallow\n",
    "% 1 = 'DLC_resnet50_swallowing-trackingSep8shuffle1_1030000.csv';\n",
    "% 2 = 'DeepCut_resnet50_swallow-trackingSep18shuffle1_1030000.csv';\n",
    "% 3 = 'DLC_resnet50_swallow-no-markerNov22shuffle1_1030000.csv';\n",
    "\n",
    "dlc.bottom = 0;\n",
    "dlc.side = 1;\n",
    "dlc.swallow = 1;\n",
    "[camdata,sideloc,bottomloc,swallowloc] = loadDLC(session,dlc);"
   ]
  },
  {
   "cell_type": "code",
   "execution_count": 2,
   "metadata": {},
   "outputs": [
    {
     "name": "stderr",
     "output_type": "stream",
     "text": [
      "\u001b[0;31mError using VideoReader/initReader (line 734)\n",
      "The filename specified was not found in the MATLAB path.\n",
      "\n",
      "Error in audiovideo.internal.IVideoReader (line 136)\n",
      "            initReader(obj, fileName, currentTime);\n",
      "\n",
      "Error in VideoReader (line 104)\n",
      "            obj@audiovideo.internal.IVideoReader(varargin{:});\n",
      "\n",
      "\u001b[0m"
     ]
    }
   ],
   "source": [
    "%% Set camera calibration parameters\n",
    "% load calibration video\n",
    "scalvid = VideoReader(strcat('Videos/',session,'/side-',session,'.mp4'));\n",
    "bcalvid = VideoReader(strcat('Videos/',session,'/bottom-',session,'.mp4'));\n",
    "\n",
    "% set and extract sample frame\n",
    "bcalvid.CurrentTime = 75;\n",
    "scalvid.CurrentTime = 75;\n",
    "bottomsnap = readFrame(bcalvid);\n",
    "sidesnap = readFrame(scalvid);\n",
    "imtool(bottomsnap);\n",
    "% imtool(sidesnap);"
   ]
  },
  {
   "cell_type": "code",
   "execution_count": 7,
   "metadata": {},
   "outputs": [
    {
     "name": "stdout",
     "output_type": "stream",
     "text": [
      "Calibrating camera...\n",
      "Constructing 3D location...\n",
      "loc.csv saved\n"
     ]
    }
   ],
   "source": [
    "%% Calibrate camera and reconstruct markers\n",
    "loc_path = strcat('Videos/',session,'/','loc.csv');\n",
    "\n",
    "% Enter pixel distance between spout tip and tape (5 mm)\n",
    "sidexlen = 152;\n",
    "sideylen = 25.83;\n",
    "bottomxlen = 25.7;\n",
    "bottomylen = 164;\n",
    "\n",
    "% Calculate respective ratio\n",
    "sxratio = 5/sidexlen;\n",
    "syratio = 0.9/sideylen;\n",
    "bxratio = 5/bottomxlen;\n",
    "byratio = 0.9/bottomylen;\n",
    "ratio = [sxratio;syratio;bxratio;byratio];\n",
    "noratio = [1;1;1;1];\n",
    "\n",
    "% Enter pixel height of two markers\n",
    "laryheight = 0; % 19-111119-1: 48.75\n",
    "jawheight = 0; % 19-111119-1:23.12\n",
    "\n",
    "% Calibrate camera\n",
    "[side,bottom,swallow] = calibrateCamera(sideloc,bottomloc,swallowloc,...\n",
    "                            noratio,laryheight,jawheight);\n",
    "\n",
    "% construct marker position in 3D\n",
    "loc = construct3D(side,bottom,swallow);\n",
    "writematrix(loc,loc_path);\n",
    "disp('loc.csv saved');"
   ]
  },
  {
   "cell_type": "code",
   "execution_count": null,
   "metadata": {},
   "outputs": [],
   "source": [
    "%% Multiple sessions\n",
    "noswallow = [\"11-062419-1\"; \"11-062819-1\"; \"12-070519-2\"];\n",
    "swallow = [\"13-090919-1\";...\n",
    "    \"14-091519-1\"; \"18-102119-1\"; \"18-102519-1\"; \"18-102519-2\";...\n",
    "    \"19-111119-1\"];\n",
    "\n",
    "\n",
    "for i = 1:size(noswallow,1)\n",
    "    swallowdlc = 0;\n",
    "    [camdata,sideloc,bottomloc,swallowloc] = loadDLC(noswallow(i),swallowdlc);\n",
    "    \n",
    "    % Calibration parameters\n",
    "    noratio = [1;1;1;1];\n",
    "    laryheight = 0;\n",
    "    jawheight = 0;\n",
    "    \n",
    "    % Calibrate camera\n",
    "    [side,bottom,swallow] = calibrateCamera(sideloc,bottomloc,swallowloc,...\n",
    "                            noratio,laryheight,jawheight);\n",
    "\n",
    "    % construct marker position in 3D\n",
    "    loc = construct3D(side,bottom,swallow);\n",
    "    writematrix(loc,loc_path);\n",
    "    disp('loc.csv saved');\n",
    "end"
   ]
  }
 ],
 "metadata": {
  "kernelspec": {
   "display_name": "Matlab",
   "language": "matlab",
   "name": "matlab"
  },
  "language_info": {
   "codemirror_mode": "octave",
   "file_extension": ".m",
   "help_links": [
    {
     "text": "MetaKernel Magics",
     "url": "https://metakernel.readthedocs.io/en/latest/source/README.html"
    }
   ],
   "mimetype": "text/x-octave",
   "name": "matlab",
   "version": "0.16.7"
  }
 },
 "nbformat": 4,
 "nbformat_minor": 4
}
